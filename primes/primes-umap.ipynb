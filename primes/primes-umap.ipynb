{
 "cells": [
  {
   "cell_type": "code",
   "execution_count": null,
   "id": "21bc4e3c-aa16-4523-943c-1206d1c0fd61",
   "metadata": {},
   "outputs": [],
   "source": [
    "using Pkg\n",
    "Pkg.activate(\".\")"
   ]
  },
  {
   "cell_type": "code",
   "execution_count": null,
   "id": "1da80697",
   "metadata": {},
   "outputs": [],
   "source": []
  },
  {
   "cell_type": "code",
   "execution_count": null,
   "id": "84917e16",
   "metadata": {},
   "outputs": [],
   "source": [
    "# run this cell only the first time\n",
    "Pkg.add([\n",
    "    PackageSpec(name=\"SimilaritySearch\", version=\"0.8\"),\n",
    "    PackageSpec(url=\"https://github.com/sadit/UMAP.jl\", rev=\"54bcaa88a47a8597f1a3a390e495ec032066aa6b\"),\n",
    "    PackageSpec(name=\"Plots\"),\n",
    "    PackageSpec(name=\"Primes\"),\n",
    "    PackageSpec(name=\"StatsBase\")\n",
    "])\n"
   ]
  },
  {
   "cell_type": "code",
   "execution_count": null,
   "id": "bc007e98",
   "metadata": {},
   "outputs": [],
   "source": [
    "\n",
    "using SimilaritySearch, UMAP, Primes, Plots, StatsBase"
   ]
  },
  {
   "cell_type": "markdown",
   "id": "81cce49e-2ecd-4f1f-9791-c759bb23b5b2",
   "metadata": {},
   "source": [
    "# Prime numbers\n",
    "This demonstration is about prime numbers and its similarity based on its factors. This is a well-known demonstration of `UMAP.jl`. This notebook does not requires to download any dataset.\n",
    "\n"
   ]
  },
  {
   "cell_type": "markdown",
   "id": "51f12491-ddda-47f2-9023-a7ae082a38d5",
   "metadata": {},
   "source": [
    "Now, we can define our dataset. The set of factors are found using the `Primes` package. Note that we use `VectorDatabase` to represent the dataset."
   ]
  },
  {
   "cell_type": "code",
   "execution_count": null,
   "id": "e4e8519e-8e99-4eff-8e51-93cc9b3d635d",
   "metadata": {},
   "outputs": [],
   "source": [
    "n = 100_000\n",
    "F = Vector{Vector{Int32}}(undef, n)\n",
    "\n",
    "for i in 2:n+1\n",
    "    s = Int32[convert(Int32, f) for f in factor(Set, i)]\n",
    "    sort!(s)\n",
    "    F[i-1] = s\n",
    "end\n",
    "\n",
    "db = VectorDatabase(F)"
   ]
  },
  {
   "cell_type": "markdown",
   "id": "7e6b42ba-aee8-4b65-ba17-98d3ec4cbed2",
   "metadata": {},
   "source": [
    "We use Int32 ordered arrays to store prime factors to represent each integer. In the following cell define the cosine distance equivalent for this representation. While other representations may perform faster, this is quite straighforward and demonstrates the use of user's defined distance functions."
   ]
  },
  {
   "cell_type": "code",
   "execution_count": null,
   "id": "c66747a0-989c-4c44-b119-0a254af19663",
   "metadata": {},
   "outputs": [],
   "source": [
    "\n",
    "struct CosineDistanceSet <: SemiMetric end\n",
    "\n",
    "function SimilaritySearch.evaluate(::CosineDistanceSet, U, V)\n",
    "    _, isize = SimilaritySearch.union_intersection(U, V)\n",
    "    1 - isize / (sqrt(length(U)) * sqrt(length(V)))\n",
    "end\n",
    "\n"
   ]
  },
  {
   "cell_type": "markdown",
   "id": "f75766e5-234d-4dad-a605-fce8e0139dfe",
   "metadata": {},
   "source": [
    "## Index construction\n",
    "Note that the primes factors are pretty large for some large $n$ and this imply challengues for metric indexes (since it is related with the intrinsic dimension of the dataset). We used a kernel that starts 64 threads, it solves $100000$ in a few seconds but it can take pretty large time using single threads and larger $n$ values. The construction of the index is used by the visualization algorithm (UMAP) to construct an all-knn graph, which can be a quite costly procedure."
   ]
  },
  {
   "cell_type": "code",
   "execution_count": null,
   "id": "c882a563-0595-43b4-9913-a96b8d937241",
   "metadata": {},
   "outputs": [],
   "source": [
    "#dist = JaccardDistance()  # Other distances from SimilaritySearch\n",
    "dist = DiceDistance()\n",
    "#dist = IntersectionDissimilarity()\n",
    "#dist = CosineDistanceSet()\n",
    "G = SearchGraph(; db, dist)\n",
    "push!(G.callbacks, OptimizeParameters(kind=ParetoRecall()))\n",
    "index!(G; parallel_block=1000)\n",
    "IJulia.clear_output()"
   ]
  },
  {
   "cell_type": "markdown",
   "id": "f868473e-6c88-48de-8511-2ed8e9633d5f",
   "metadata": {},
   "source": [
    "## Visualizing with UMAP projection\n",
    "We select to initialize the embedding randomly, this could yield to low quality embeddings, but it is much faster than other techniques like spectral layout. Note that we pass the Search graph `G`. We also use a second call to compute a 3D embedding for computing a kind of colour embedding, here we pass `U2` to avoid recomputing several of the involved structures."
   ]
  },
  {
   "cell_type": "code",
   "execution_count": null,
   "id": "1ee042b7-09b1-47fe-badd-c599e1c510ad",
   "metadata": {
    "tags": []
   },
   "outputs": [],
   "source": [
    "U2 = UMAP_(G, 2; n_neighbors=15, init=:random, n_epochs=30)\n",
    "U3 = UMAP_(U2, 3; init=:random, n_epochs=50)"
   ]
  },
  {
   "cell_type": "code",
   "execution_count": null,
   "id": "1d7df561-5278-4fa0-b476-206c2bae3c00",
   "metadata": {},
   "outputs": [],
   "source": [
    "X = @view U2.embedding[1, :]\n",
    "Y = @view U2.embedding[2, :]\n",
    "\n",
    "function normcolors(V)\n",
    "    min_, max_ = extrema(V)\n",
    "    V .= (V .- min_) ./ (max_ - min_)\n",
    "    V .= clamp.(V, 0, 1)\n",
    "end\n",
    "\n",
    "C = copy(U3.embedding)\n",
    "normcolors(@view C[1, :])\n",
    "normcolors(@view C[2, :])\n",
    "normcolors(@view C[3, :])\n",
    "\n",
    "C = [RGB(c...) for c in eachcol(C)]\n",
    "\n",
    "scatter(X, Y, c=C, fmt=:png, size=(600, 600), ma=0.3, a=0.3, ms=1, msw=0, label=\"\", yticks=nothing, xticks=nothing, title=\"First $n integers represented as prime factors\\n $dist\")\n",
    "#savefig(\"umap-primes-1M.png\")"
   ]
  },
  {
   "cell_type": "code",
   "execution_count": null,
   "id": "8ea0f511-1388-4c97-8b55-97b7f19ed0ef",
   "metadata": {},
   "outputs": [],
   "source": []
  },
  {
   "cell_type": "code",
   "execution_count": null,
   "id": "dd8df4d1-30cc-482b-863f-5e1081f30733",
   "metadata": {},
   "outputs": [],
   "source": []
  }
 ],
 "metadata": {
  "kernelspec": {
   "display_name": "Julia 1.7.2",
   "language": "julia",
   "name": "julia-1.7"
  },
  "language_info": {
   "file_extension": ".jl",
   "mimetype": "application/julia",
   "name": "julia",
   "version": "1.7.2"
  }
 },
 "nbformat": 4,
 "nbformat_minor": 5
}
