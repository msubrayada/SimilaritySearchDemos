{
 "cells": [
  {
   "cell_type": "markdown",
   "id": "c8697b2f-d492-475a-b572-47689babd8bc",
   "metadata": {},
   "source": [
    "# Random data - synthetic demo\n",
    "\n",
    "This is a very simple demonstration of how to use `SimilaritySearch.jl`. The API correspond to version `0.8`"
   ]
  },
  {
   "cell_type": "code",
   "execution_count": 1,
   "id": "09dcdbb0-0c8d-41aa-8b1a-8740b9404d45",
   "metadata": {},
   "outputs": [
    {
     "name": "stderr",
     "output_type": "stream",
     "text": [
      "\u001b[32m\u001b[1m  Activating\u001b[22m\u001b[39m project at `~/Research/SimilaritySearchDemos/synthetic`\n",
      "\u001b[32m\u001b[1m    Updating\u001b[22m\u001b[39m registry at `~/.julia/registries/General.toml`\n",
      "\u001b[32m\u001b[1m   Resolving\u001b[22m\u001b[39m package versions...\n",
      "\u001b[32m\u001b[1m  No Changes\u001b[22m\u001b[39m to `~/Research/SimilaritySearchDemos/synthetic/Project.toml`\n",
      "\u001b[32m\u001b[1m  No Changes\u001b[22m\u001b[39m to `~/Research/SimilaritySearchDemos/synthetic/Manifest.toml`\n"
     ]
    }
   ],
   "source": [
    "using Pkg\n",
    "Pkg.activate(\".\")\n",
    "Pkg.add([\n",
    "    PackageSpec(name=\"SimilaritySearch\", version=\"0.8\")\n",
    "])\n",
    "\n",
    "using SimilaritySearch"
   ]
  },
  {
   "cell_type": "markdown",
   "id": "c971424e-acda-44af-937f-2e34e49eea54",
   "metadata": {},
   "source": [
    "# A random dataset\n",
    "Let us define a dataset of 8-dimensions and $10^5$ elements. Each object is a column. The matrix needs to be wrapped as a database since `SimilaritySearch` is distance agnostic and objects can be any representation. The matrix is not copied.\n"
   ]
  },
  {
   "cell_type": "code",
   "execution_count": 2,
   "id": "37e67c73-951d-46bf-86db-f65b94d67190",
   "metadata": {},
   "outputs": [
    {
     "data": {
      "text/plain": [
       "MatrixDatabase{Matrix{Float32}}(Float32[0.5034658 -0.93668336 … -0.7618183 0.6744511; 0.47730342 -2.610985 … -0.49312723 0.13696608; … ; -0.8878111 2.229185 … 2.9433165 -0.97900796; 0.44475862 -0.29567906 … -0.20951769 -0.47941688])"
      ]
     },
     "execution_count": 2,
     "metadata": {},
     "output_type": "execute_result"
    }
   ],
   "source": [
    "n = 100_000\n",
    "M = randn(Float32, 8, n)\n",
    "db = MatrixDatabase(M)"
   ]
  },
  {
   "cell_type": "code",
   "execution_count": null,
   "id": "ed09641a-fea4-483b-956a-3257272aee92",
   "metadata": {},
   "outputs": [],
   "source": []
  },
  {
   "cell_type": "markdown",
   "id": "89e0dfe1-26c1-4195-b1f2-005944f130e2",
   "metadata": {},
   "source": [
    "The database object mimics a vector of elements"
   ]
  },
  {
   "cell_type": "code",
   "execution_count": 3,
   "id": "6e8f5cfc-2b32-4581-a79a-a07a0729d672",
   "metadata": {},
   "outputs": [
    {
     "data": {
      "text/plain": [
       "(100000, AbstractVector{Float32}, SubArray{Float32, 1, Matrix{Float32}, Tuple{Base.Slice{Base.OneTo{Int64}}, Int64}, true})"
      ]
     },
     "execution_count": 3,
     "metadata": {},
     "output_type": "execute_result"
    }
   ],
   "source": [
    "length(db), eltype(db), typeof(db[1])"
   ]
  },
  {
   "cell_type": "markdown",
   "id": "9aa2d55b-d261-4081-8763-29afba11524f",
   "metadata": {},
   "source": [
    "The `SubArray` that results of `typeof(db[1])` means that each object is a column's `view`, and therefore there is no extra memory allocations.\n",
    "\n",
    "# Index construction\n",
    "\n",
    "An index is defined as follows"
   ]
  },
  {
   "cell_type": "code",
   "execution_count": 4,
   "id": "9b89ad52-49db-49d9-92cb-cff551898b21",
   "metadata": {},
   "outputs": [
    {
     "data": {
      "text/plain": [
       "3-element Vector{Callback}:\n",
       " DisjointHints\n",
       "  logbase: Float32 1.1f0\n",
       "\n",
       " NeighborhoodSize()\n",
       " OptimizeParameters\n",
       "  kind: ParetoRecall ParetoRecall()\n",
       "  initialpopulation: Int64 16\n",
       "  params: SearchModels.SearchParams\n",
       "  ksearch: Int32 10\n",
       "  numqueries: Int32 64\n",
       "  minrecall: Float64 0.9\n",
       "  space: BeamSearchSpace\n"
      ]
     },
     "execution_count": 4,
     "metadata": {},
     "output_type": "execute_result"
    }
   ],
   "source": [
    "G = SearchGraph(db=(db), dist=SqL2Distance())\n",
    "push!(G.callbacks, OptimizeParameters(kind=ParetoRecall(), params=SimilaritySearch.SearchParams(verbose=false)))"
   ]
  },
  {
   "cell_type": "markdown",
   "id": "dcc6ee47-bd91-4d23-9523-144115b3e7fb",
   "metadata": {},
   "source": [
    "The `SearchGraph` index has an incremental construction and `G.callbacks` contains a list of callbacks that are called at exponential steps. We add the `OptimizeParameters` of kind `ParetoRecall` such that our index try to optimize jointly search speed and recall. It is also possible to optimize for a minimum recall with `MinRecall`.\n",
    "\n",
    "The index is defined, it needs to be constructed as follows (please note that the construction can output a lot of information):"
   ]
  },
  {
   "cell_type": "code",
   "execution_count": 5,
   "id": "010c2b92-f336-4007-960c-87c86724d6a1",
   "metadata": {},
   "outputs": [
    {
     "data": {
      "text/plain": [
       "0"
      ]
     },
     "execution_count": 5,
     "metadata": {},
     "output_type": "execute_result"
    }
   ],
   "source": [
    "index!(G)\n",
    "IJulia.clear_output()"
   ]
  },
  {
   "cell_type": "markdown",
   "id": "45b9498d-df26-4b13-a7ec-caf6c1f63d71",
   "metadata": {},
   "source": [
    "# Searching\n",
    "\n",
    "Searching can be performed with methods `search` and `searchbatch`. Both are pretty similar, the first one solves a single query and the second method solves a batch of queries. "
   ]
  },
  {
   "cell_type": "code",
   "execution_count": 6,
   "id": "e3458ae5-0d32-4e0a-967a-bcbcbdcc34fe",
   "metadata": {},
   "outputs": [
    {
     "data": {
      "text/plain": [
       "((10, 3), (10, 3))"
      ]
     },
     "execution_count": 6,
     "metadata": {},
     "output_type": "execute_result"
    }
   ],
   "source": [
    "I, D = searchbatch(G, MatrixDatabase(rand(8, 3)), 10)\n",
    "size(I), size(D)"
   ]
  },
  {
   "cell_type": "markdown",
   "id": "2a08b651-5be2-4fe6-8421-d005d732a091",
   "metadata": {},
   "source": [
    "It returns two matrices of size $10 \\times 3$ (10nn of the three given queries). Please note that our dataset is composed of Vector of Float32 elements and we are asking for Float64 vector queries. This is allowed due to the automatic specialization of Julia, but it may impact on the performance (due to SIMD ops.)"
   ]
  },
  {
   "cell_type": "markdown",
   "id": "0d6477b8-2d29-4f01-807d-a3a94aa349b9",
   "metadata": {},
   "source": [
    "A similar way to search is using an array of queries"
   ]
  },
  {
   "cell_type": "code",
   "execution_count": 7,
   "id": "054b2221-f83f-4098-89b8-eeffc490998d",
   "metadata": {},
   "outputs": [
    {
     "data": {
      "text/plain": [
       "((10, 3), (10, 3))"
      ]
     },
     "execution_count": 7,
     "metadata": {},
     "output_type": "execute_result"
    }
   ],
   "source": [
    "I, D = searchbatch(G, [rand(Float32, 8) for i in 1:3], 10)\n",
    "size(I), size(D)"
   ]
  },
  {
   "cell_type": "code",
   "execution_count": null,
   "id": "2caa68b8-3231-4f02-a902-3afab1a185ba",
   "metadata": {},
   "outputs": [],
   "source": []
  },
  {
   "cell_type": "markdown",
   "id": "28bc80aa-9066-4243-b680-0247711857e4",
   "metadata": {},
   "source": [
    "Note: Querying directly for rand(8, 3) will perform unexpected results. Note: the cannonical way to perform queries `searchbatch` is the first one (wrapping the queryset with a MatrixDatabase) and the second form should be used only for fast scripting since it always.\n",
    "\n",
    "## Single queries\n",
    "The function `search` solves single queries, specified and stored with a `KnnResult` struct."
   ]
  },
  {
   "cell_type": "code",
   "execution_count": 8,
   "id": "b7cdfddc-1465-4f59-b8f3-137312b6d060",
   "metadata": {},
   "outputs": [
    {
     "data": {
      "text/plain": [
       "(res = KnnResult(Int32[67346, 21525, 26550, 19936, 58579, 49516, 40222, 90325, 7281, 82431], Float32[0.35673603, 0.4084082, 0.4260828, 0.44249764, 0.4783573, 0.53685194, 0.5409415, 0.5529058, 0.5750766, 0.5774101], 10), cost = 345)"
      ]
     },
     "execution_count": 8,
     "metadata": {},
     "output_type": "execute_result"
    }
   ],
   "source": [
    "res, cost = search(G, rand(Float32, 8), KnnResult(10))"
   ]
  },
  {
   "cell_type": "markdown",
   "id": "a24a29d1-2b7f-419e-a8b5-555e56772f65",
   "metadata": {},
   "source": [
    "The function `search` returns the struct passed as argument (`KnnResult(10)`) and the number of distance evaluations performed to solve it.\n",
    "\n",
    "The `res` object has several related functions, but internally, it contains identifiers and distances. The identifiers are indexes in the database to access the retrieved nearest neighbors; and its respective distances to the query."
   ]
  },
  {
   "cell_type": "code",
   "execution_count": 9,
   "id": "c9b2364d-8833-470f-bb87-39857a8a00a9",
   "metadata": {},
   "outputs": [
    {
     "name": "stdout",
     "output_type": "stream",
     "text": [
      "1 => (0.35673603f0, Float32[0.4994649, 0.2459959, 0.41559488, -0.22472794, 0.5081421, 0.75663584, 0.78263, 0.52516836])\n",
      "2 => (0.4084082f0, Float32[0.23588413, 0.36198026, 0.35849693, 0.4293546, 0.4586625, 0.6400273, 0.5287682, 0.77999455])\n",
      "3 => (0.4260828f0, Float32[0.25135532, 0.5490575, -0.38024586, -0.012148158, 0.40443987, 0.71936345, 0.81165045, 0.86893636])\n",
      "4 => (0.44249764f0, Float32[0.49519494, 0.37087166, -0.21152371, 0.11435383, -0.258612, 0.5929354, 0.74892527, 0.6288024])\n",
      "5 => (0.4783573f0, Float32[0.27711454, 0.07953253, 0.1760169, -0.40125924, 0.40620005, 0.925945, 0.8988471, 0.93427444])\n",
      "6 => (0.53685194f0, Float32[0.6002004, 0.8654269, -0.07265843, -0.1685336, -0.13893478, 0.6286316, 0.660411, 1.113605])\n",
      "7 => (0.5409415f0, Float32[0.24515025, 0.522316, 0.38613623, -0.25196764, 0.13193493, 1.0425844, 1.2510918, 0.9864671])\n",
      "8 => (0.5529058f0, Float32[0.45296872, 0.27671918, 0.27731606, -0.56722015, 0.14737016, 0.6006524, 0.65252244, 1.0746515])\n",
      "9 => (0.5750766f0, Float32[0.17325298, 0.6182187, 0.12968057, 0.1919277, -0.25456196, 0.5219188, 0.5856959, 0.44884083])\n",
      "10 => (0.5774101f0, Float32[0.6964937, 0.5472928, 0.50917876, 0.042552624, 0.61019874, 0.98564315, 0.35341343, 0.55304354])\n"
     ]
    }
   ],
   "source": [
    "for (i, (id, dist)) in enumerate(res)\n",
    "    println(i => (dist, G[id]))\n",
    "end"
   ]
  }
 ],
 "metadata": {
  "kernelspec": {
   "display_name": "Julia 1.7.0",
   "language": "julia",
   "name": "julia-1.7.0"
  },
  "language_info": {
   "file_extension": ".jl",
   "mimetype": "application/julia",
   "name": "julia",
   "version": "1.7.0"
  }
 },
 "nbformat": 4,
 "nbformat_minor": 5
}
