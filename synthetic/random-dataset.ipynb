{
 "cells": [
  {
   "cell_type": "markdown",
   "id": "c8697b2f-d492-475a-b572-47689babd8bc",
   "metadata": {},
   "source": [
    "# Random data - synthetic demo\n",
    "\n",
    "This is a very simple demonstration of how to use `SimilaritySearch.jl`. The API correspond to version `0.8`"
   ]
  },
  {
   "cell_type": "code",
   "execution_count": 1,
   "id": "09dcdbb0-0c8d-41aa-8b1a-8740b9404d45",
   "metadata": {},
   "outputs": [
    {
     "name": "stderr",
     "output_type": "stream",
     "text": [
      "\u001b[32m\u001b[1m  Activating\u001b[22m\u001b[39m project at `~/Research/SimilaritySearchDemos/synthetic`\n",
      "\u001b[32m\u001b[1m    Updating\u001b[22m\u001b[39m registry at `~/.julia/registries/General.toml`\n",
      "\u001b[32m\u001b[1m   Resolving\u001b[22m\u001b[39m package versions...\n",
      "\u001b[32m\u001b[1m  No Changes\u001b[22m\u001b[39m to `~/Research/SimilaritySearchDemos/synthetic/Project.toml`\n",
      "\u001b[32m\u001b[1m  No Changes\u001b[22m\u001b[39m to `~/Research/SimilaritySearchDemos/synthetic/Manifest.toml`\n"
     ]
    }
   ],
   "source": [
    "using Pkg\n",
    "Pkg.activate(\".\")\n",
    "Pkg.add([\n",
    "    PackageSpec(name=\"SimilaritySearch\", version=\"0.8.10\")\n",
    "])\n",
    "\n",
    "using SimilaritySearch"
   ]
  },
  {
   "cell_type": "markdown",
   "id": "c971424e-acda-44af-937f-2e34e49eea54",
   "metadata": {},
   "source": [
    "# A random dataset\n",
    "Let us define a dataset of 8-dimensions and $10^5$ elements. Each object is a column. The matrix needs to be wrapped as a database since `SimilaritySearch` is distance agnostic and objects can be any representation. The matrix is not copied.\n"
   ]
  },
  {
   "cell_type": "code",
   "execution_count": 2,
   "id": "37e67c73-951d-46bf-86db-f65b94d67190",
   "metadata": {},
   "outputs": [
    {
     "data": {
      "text/plain": [
       "MatrixDatabase{Matrix{Float32}}(Float32[-0.12045016 -0.53475857 … -0.4273328 1.1824491; 1.1121974 0.32277134 … 0.45995116 2.13024; … ; -0.57610315 0.8922343 … -0.39629176 -0.06793562; -0.88367796 -0.6474708 … 0.6428879 -0.087060295])"
      ]
     },
     "execution_count": 2,
     "metadata": {},
     "output_type": "execute_result"
    }
   ],
   "source": [
    "n = 100_000\n",
    "M = randn(Float32, 8, n)\n",
    "db = MatrixDatabase(M)"
   ]
  },
  {
   "cell_type": "code",
   "execution_count": null,
   "id": "ed09641a-fea4-483b-956a-3257272aee92",
   "metadata": {},
   "outputs": [],
   "source": []
  },
  {
   "cell_type": "markdown",
   "id": "89e0dfe1-26c1-4195-b1f2-005944f130e2",
   "metadata": {},
   "source": [
    "The database object mimics a vector of elements"
   ]
  },
  {
   "cell_type": "code",
   "execution_count": 3,
   "id": "6e8f5cfc-2b32-4581-a79a-a07a0729d672",
   "metadata": {},
   "outputs": [
    {
     "data": {
      "text/plain": [
       "(100000, AbstractVector{Float32}, SubArray{Float32, 1, Matrix{Float32}, Tuple{Base.Slice{Base.OneTo{Int64}}, Int64}, true})"
      ]
     },
     "execution_count": 3,
     "metadata": {},
     "output_type": "execute_result"
    }
   ],
   "source": [
    "length(db), eltype(db), typeof(db[1])"
   ]
  },
  {
   "cell_type": "markdown",
   "id": "9aa2d55b-d261-4081-8763-29afba11524f",
   "metadata": {},
   "source": [
    "The `SubArray` that results of `typeof(db[1])` means that each object is a column's `view`, and therefore there is no extra memory allocations.\n",
    "\n",
    "# Index construction\n",
    "\n",
    "An index is defined as follows"
   ]
  },
  {
   "cell_type": "code",
   "execution_count": 4,
   "id": "9b89ad52-49db-49d9-92cb-cff551898b21",
   "metadata": {},
   "outputs": [
    {
     "data": {
      "text/plain": [
       "SearchGraph{SqL2Distance, MatrixDatabase{Matrix{Float32}}, BeamSearch}\n",
       "  dist: SqL2Distance SqL2Distance()\n",
       "  db: MatrixDatabase{Matrix{Float32}}\n",
       "  links: Array{Vector{Int32}}((0,))\n",
       "  locks: Array{Base.Threads.SpinLock}((0,))\n",
       "  hints: Array{Int32}((0,)) Int32[]\n",
       "  search_algo: BeamSearch\n",
       "  neighborhood: SimilaritySearch.Neighborhood\n",
       "  verbose: Bool true\n"
      ]
     },
     "execution_count": 4,
     "metadata": {},
     "output_type": "execute_result"
    }
   ],
   "source": [
    "dist = SqL2Distance()\n",
    "G = SearchGraph(; db, dist)"
   ]
  },
  {
   "cell_type": "markdown",
   "id": "dcc6ee47-bd91-4d23-9523-144115b3e7fb",
   "metadata": {},
   "source": [
    "The `SearchGraph` index has an incremental construction that contains a list of callbacks that are called at exponential steps. By default it uses `OptimizeParameters(kind=ParetoRecall())` such that our index try to optimize jointly search speed and recall. It is also possible to optimize for a minimum recall with `MinRecall(0.9)` for a construction that will try to reach 0.9 of recall (using the same dataset as gold standard).\n",
    "\n",
    "The index is defined, it needs to be constructed as follows (please note that the construction can output a lot of information):"
   ]
  },
  {
   "cell_type": "code",
   "execution_count": 5,
   "id": "010c2b92-f336-4007-960c-87c86724d6a1",
   "metadata": {},
   "outputs": [
    {
     "data": {
      "text/plain": [
       "0"
      ]
     },
     "execution_count": 5,
     "metadata": {},
     "output_type": "execute_result"
    }
   ],
   "source": [
    "# index!(G, callbacks=SearchGraphCallbacks(hyperparameters=OptimizeParameters(kind=MinRecall(0.9))))\n",
    "index!(G)\n",
    "IJulia.clear_output()"
   ]
  },
  {
   "cell_type": "markdown",
   "id": "45b9498d-df26-4b13-a7ec-caf6c1f63d71",
   "metadata": {},
   "source": [
    "# Searching\n",
    "\n",
    "Searching can be performed with methods `search` and `searchbatch`. Both are pretty similar, the first one solves a single query and the second method solves a batch of queries. "
   ]
  },
  {
   "cell_type": "code",
   "execution_count": 6,
   "id": "e3458ae5-0d32-4e0a-967a-bcbcbdcc34fe",
   "metadata": {},
   "outputs": [
    {
     "data": {
      "text/plain": [
       "((10, 3), (10, 3))"
      ]
     },
     "execution_count": 6,
     "metadata": {},
     "output_type": "execute_result"
    }
   ],
   "source": [
    "I, D = searchbatch(G, MatrixDatabase(rand(8, 3)), 10)\n",
    "size(I), size(D)"
   ]
  },
  {
   "cell_type": "markdown",
   "id": "2a08b651-5be2-4fe6-8421-d005d732a091",
   "metadata": {},
   "source": [
    "It returns two matrices of size $10 \\times 3$ (10nn of the three given queries). Please note that our dataset is composed of Vector of Float32 elements and we are asking for Float64 vector queries. This is allowed due to the automatic specialization of Julia, but it may impact on the performance (due to SIMD ops.)"
   ]
  },
  {
   "cell_type": "markdown",
   "id": "0d6477b8-2d29-4f01-807d-a3a94aa349b9",
   "metadata": {},
   "source": [
    "A similar way to search is using an array of queries"
   ]
  },
  {
   "cell_type": "code",
   "execution_count": 7,
   "id": "054b2221-f83f-4098-89b8-eeffc490998d",
   "metadata": {},
   "outputs": [
    {
     "data": {
      "text/plain": [
       "((10, 3), (10, 3))"
      ]
     },
     "execution_count": 7,
     "metadata": {},
     "output_type": "execute_result"
    }
   ],
   "source": [
    "I, D = searchbatch(G, [rand(Float32, 8) for i in 1:3], 10)\n",
    "size(I), size(D)"
   ]
  },
  {
   "cell_type": "code",
   "execution_count": null,
   "id": "2caa68b8-3231-4f02-a902-3afab1a185ba",
   "metadata": {},
   "outputs": [],
   "source": []
  },
  {
   "cell_type": "markdown",
   "id": "28bc80aa-9066-4243-b680-0247711857e4",
   "metadata": {},
   "source": [
    "Note: Querying directly for rand(8, 3) will perform unexpected results. Note: the cannonical way to perform queries `searchbatch` is the first one (wrapping the queryset with a MatrixDatabase) and the second form should be used only for fast scripting since it always.\n",
    "\n",
    "## Single queries\n",
    "The function `search` solves single queries, specified and stored with a `KnnResult` struct."
   ]
  },
  {
   "cell_type": "code",
   "execution_count": 8,
   "id": "b7cdfddc-1465-4f59-b8f3-137312b6d060",
   "metadata": {},
   "outputs": [
    {
     "data": {
      "text/plain": [
       "(res = KnnResult(Int32[34783, 43265, 4903, 68840, 74177, 12783, 38107, 44916, 1709, 42222], Float32[0.20727837, 0.40561062, 0.45936117, 0.4621851, 0.4996728, 0.5269037, 0.6028715, 0.6450891, 0.6595993, 0.6710913], 10), cost = 298)"
      ]
     },
     "execution_count": 8,
     "metadata": {},
     "output_type": "execute_result"
    }
   ],
   "source": [
    "res, cost = search(G, rand(Float32, 8), KnnResult(10))"
   ]
  },
  {
   "cell_type": "markdown",
   "id": "a24a29d1-2b7f-419e-a8b5-555e56772f65",
   "metadata": {},
   "source": [
    "The function `search` returns the struct passed as argument (`KnnResult(10)`) and the number of distance evaluations performed to solve it.\n",
    "\n",
    "The `res` object has several related functions, but internally, it contains identifiers and distances. The identifiers are indexes in the database to access the retrieved nearest neighbors; and its respective distances to the query. `KnnResult` objects can be iterated at accessed by position."
   ]
  },
  {
   "cell_type": "code",
   "execution_count": 9,
   "id": "c9b2364d-8833-470f-bb87-39857a8a00a9",
   "metadata": {},
   "outputs": [
    {
     "data": {
      "text/markdown": [
       "\n",
       "- Nearest neighbor pair: `34783 => 0.20727837f0`\n",
       "- argmin: 34783, minimum: 0.20727837\n",
       "- argmax: 42222, maximum: 0.6710913\n",
       "- 1nn: 34783 => 0.20727837f0, 2nn: 34783 => 0.20727837f0\n",
       "- knns: Int32[34783, 43265, 4903, 68840, 74177, 12783, 38107, 44916, 1709, 42222]\n",
       "- dists: Float32[0.20727837, 0.40561062, 0.45936117, 0.4621851, 0.4996728, 0.5269037, 0.6028715, 0.6450891, 0.6595993, 0.6710913]\n",
       "    \n",
       "\n",
       "The `KnnResult` is a priority queue that stores at most `k` pairs.\n",
       "You can modify it using `push!`, `pop!` and `popfirst!`\n",
       "\n"
      ]
     },
     "metadata": {},
     "output_type": "display_data"
    },
    {
     "data": {
      "text/plain": [
       "(:popfirst! => (34783 => 0.20727837f0), :res => KnnResult(Int32[43265, 4903, 68840, 74177, 12783, 38107, 44916, 1709, 42222], Float32[0.40561062, 0.45936117, 0.4621851, 0.4996728, 0.5269037, 0.6028715, 0.6450891, 0.6595993, 0.6710913], 10), length => 9)"
      ]
     },
     "metadata": {},
     "output_type": "display_data"
    },
    {
     "data": {
      "text/plain": [
       "(:pop! => (42222 => 0.6710913f0), :res => KnnResult(Int32[43265, 4903, 68840, 74177, 12783, 38107, 44916, 1709], Float32[0.40561062, 0.45936117, 0.4621851, 0.4996728, 0.5269037, 0.6028715, 0.6450891, 0.6595993], 10), :length => 8)"
      ]
     },
     "metadata": {},
     "output_type": "display_data"
    },
    {
     "data": {
      "text/plain": [
       ":after_push! => KnnResult(Int32[1, 43265, 4903, 68840, 74177, 12783, 38107, 44916, 1709, 2], Float32[0.0, 0.40561062, 0.45936117, 0.4621851, 0.4996728, 0.5269037, 0.6028715, 0.6450891, 0.6595993, 1.0f6], 10)"
      ]
     },
     "metadata": {},
     "output_type": "display_data"
    },
    {
     "data": {
      "text/markdown": [
       "### You can also iterate the result set and access to the indexed dataset"
      ]
     },
     "metadata": {},
     "output_type": "display_data"
    },
    {
     "name": "stdout",
     "output_type": "stream",
     "text": [
      "1 => (0.0f0, Float32[-0.12045016, 1.1121974, -1.2203869, -0.23189978, 0.3345606, 0.6638271, -0.57610315, -0.88367796])\n",
      "2 => (0.40561062f0, Float32[-0.075216055, 0.3513729, 0.81024456, 1.0519006, 0.75267243, 0.092860155, 1.0022776, 0.14793374])\n",
      "3 => (0.45936117f0, Float32[0.48839122, 0.6536945, 0.8076429, 0.35507175, 0.45182833, 0.4276768, 0.55495995, 0.06989036])\n",
      "4 => (0.4621851f0, Float32[-0.20702612, 0.59180117, 0.7452996, 0.7756401, 0.3880822, 0.31119123, 1.0533082, 0.23561564])\n",
      "5 => (0.4996728f0, Float32[0.012422479, 0.37038645, 1.0395277, 1.1880285, 0.5033326, 0.27784678, 0.18746497, 0.11635025])\n",
      "6 => (0.5269037f0, Float32[-0.14843248, 0.63722026, 0.8738692, 0.27568966, 0.6324766, 0.4627273, 0.89337206, 0.08610707])\n",
      "7 => (0.6028715f0, Float32[0.11728806, 0.54548043, 0.4672482, 0.5921352, 0.90494245, 0.110077135, 0.4441372, 0.48396742])\n",
      "8 => (0.6450891f0, Float32[0.4371052, 0.5013931, 1.028366, 0.6856857, 0.6675062, 0.58435124, -0.03640411, 0.23755834])\n",
      "9 => (0.6595993f0, Float32[-0.20969534, 0.62503266, 0.83563805, 0.54970586, 0.7667512, 0.56627434, 0.13719393, 0.44773388])\n",
      "10 => (1.0f6, Float32[-0.53475857, 0.32277134, 1.3548743, 1.4002854, -0.0070622102, -0.083230376, 0.8922343, -0.6474708])\n"
     ]
    }
   ],
   "source": [
    "display(\"text/markdown\", \"\"\"\n",
    "\n",
    "- Nearest neighbor pair: `$(first(res))`\n",
    "- argmin: $(argmin(res)), minimum: $(minimum(res))\n",
    "- argmax: $(argmax(res)), maximum: $(maximum(res))\n",
    "- 1nn: $(getpair(res, 1)), 2nn: $(getpair(res, 1))\n",
    "- knns: $(res.id)\n",
    "- dists: $(res.dist)\n",
    "    \n",
    "\n",
    "The `KnnResult` is a priority queue that stores at most `k` pairs.\n",
    "You can modify it using `push!`, `pop!` and `popfirst!`\n",
    "\n",
    "\"\"\")\n",
    "\n",
    "display((:popfirst! => popfirst!(res), :res => res, length => length(res)))\n",
    "display((:pop! => pop!(res), :res => res, :length => length(res)))\n",
    "push!(res, 1, 0.0)\n",
    "push!(res, 2, 1e6)\n",
    "display(:after_push! => res)\n",
    "display(\"text/markdown\", \"### You can also iterate the result set and access to the indexed dataset\")\n",
    "for (i, (id, dist)) in enumerate(res)\n",
    "    println(i => (dist, G[id]))\n",
    "end\n",
    "\n",
    "\n"
   ]
  }
 ],
 "metadata": {
  "kernelspec": {
   "display_name": "Julia 1.7.0",
   "language": "julia",
   "name": "julia-1.7.0"
  },
  "language_info": {
   "file_extension": ".jl",
   "mimetype": "application/julia",
   "name": "julia",
   "version": "1.7.0"
  }
 },
 "nbformat": 4,
 "nbformat_minor": 5
}
